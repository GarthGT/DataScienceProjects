{
 "cells": [
  {
   "cell_type": "code",
   "execution_count": 37,
   "metadata": {},
   "outputs": [],
   "source": [
    "import os\n",
    "import pandas as pd\n",
    "\n",
    "path =r'C:\\Users\\Garth\\Desktop\\Extract'\n",
    "os.chdir(path)\n",
    "files = os.listdir(path)\n",
    "files_xls = [f for f in files if f[-4:] == 'xlsx']   \n",
    "df = pd.DataFrame()\n",
    "for f in files_xls:\n",
    "    project = pd.read_excel(f, sheet_name = 'assumptions', index_col = 0)\n",
    "    project_name = project.loc['name']\n",
    "    data_values = pd.read_excel(f, sheet_name = 'yearly_q', index_col = 0)\n",
    "    data_subset = data_values.loc[['historical_total_p50', 'historical_wind_p50', 'historical_solar_p50', 'historical_total_p90', 'historical_wind_p90', 'historical_solar_p90']]\n",
    "    df = df.append(project_name)\n",
    "    df = df.append(data_subset)\n",
    "    cols = df.columns.tolist()\n",
    "    cols = cols[-1:] + cols[:-1]\n",
    "    df = df[cols]"
   ]
  },
  {
   "cell_type": "code",
   "execution_count": 35,
   "metadata": {},
   "outputs": [],
   "source": [
    "file_name = 'output.xlsx'\n",
    "df.to_excel(file_name)"
   ]
  }
 ],
 "metadata": {
  "kernelspec": {
   "display_name": "Python 3",
   "language": "python",
   "name": "python3"
  },
  "language_info": {
   "codemirror_mode": {
    "name": "ipython",
    "version": 3
   },
   "file_extension": ".py",
   "mimetype": "text/x-python",
   "name": "python",
   "nbconvert_exporter": "python",
   "pygments_lexer": "ipython3",
   "version": "3.8.3"
  }
 },
 "nbformat": 4,
 "nbformat_minor": 4
}
